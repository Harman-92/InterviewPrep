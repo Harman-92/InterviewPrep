{
 "cells": [
  {
   "cell_type": "code",
   "execution_count": null,
   "id": "2a1c71ca",
   "metadata": {},
   "outputs": [],
   "source": [
    "import sklearn\n",
    "import pandas as pd\n",
    "import numpy as np\n",
    "from itertools import groupby\n",
    "from operator import itemgetter"
   ]
  },
  {
   "cell_type": "code",
   "execution_count": null,
   "id": "dd72fda9",
   "metadata": {},
   "outputs": [
    {
     "name": "stdout",
     "output_type": "stream",
     "text": [
      "[(2, 1), (3, 1), (3, 2), (5, 1), (5, 1), (6, 1), (9, 2)]\n",
      "{2: 1, 3: 2, 5: 1, 6: 1, 9: 2}\n"
     ]
    }
   ],
   "source": [
    "#Get longest sequence in a string for every number\n",
    "\n",
    "string = \"653992335\" \n",
    "\n",
    "list_of_tuple = sorted([(int(k), sum(1 for i in g)) for k,g in groupby(string)],key=itemgetter(0))\n",
    "print(list_of_tuple)\n",
    "\n",
    "res = {int(k): max(i[1] for i in g) for k,g in groupby(list_of_tuple,itemgetter(0))}\n",
    "print(res)"
   ]
  },
  {
   "cell_type": "code",
   "execution_count": null,
   "id": "2d351532",
   "metadata": {},
   "outputs": [
    {
     "name": "stdout",
     "output_type": "stream",
     "text": [
      "[20, 36, 18, 95, 53, 81, 58, 38, 49, 13]\n",
      "[20, 36, 18, 58, 38, 95, 53, 81, 49, 13]\n"
     ]
    }
   ],
   "source": [
    "# Inplace sorting with a function\n",
    "\n",
    "sample = list(np.random.randint(100,size=(10)))\n",
    "print(sample)\n",
    "sample.sort(key = lambda x:x%2==0,reverse=True)\n",
    "print(sample)"
   ]
  },
  {
   "cell_type": "code",
   "execution_count": null,
   "id": "299776dd",
   "metadata": {},
   "outputs": [
    {
     "ename": "ValueError",
     "evalue": "2 is not in list",
     "output_type": "error",
     "traceback": [
      "\u001B[1;31m---------------------------------------------------------------------------\u001B[0m",
      "\u001B[1;31mValueError\u001B[0m                                Traceback (most recent call last)",
      "\u001B[1;32m<ipython-input-96-cc9420bbc2b5>\u001B[0m in \u001B[0;36m<module>\u001B[1;34m\u001B[0m\n\u001B[0;32m      4\u001B[0m \u001B[1;33m\u001B[0m\u001B[0m\n\u001B[0;32m      5\u001B[0m \u001B[1;31m# Search for number = 2, starting from position 3 till 7\u001B[0m\u001B[1;33m\u001B[0m\u001B[1;33m\u001B[0m\u001B[1;33m\u001B[0m\u001B[0m\n\u001B[1;32m----> 6\u001B[1;33m \u001B[0mnumbers\u001B[0m\u001B[1;33m.\u001B[0m\u001B[0mindex\u001B[0m\u001B[1;33m(\u001B[0m\u001B[1;36m2\u001B[0m\u001B[1;33m,\u001B[0m\u001B[1;36m0\u001B[0m\u001B[1;33m,\u001B[0m\u001B[1;36m1\u001B[0m\u001B[1;33m)\u001B[0m\u001B[1;33m\u001B[0m\u001B[1;33m\u001B[0m\u001B[0m\n\u001B[0m",
      "\u001B[1;31mValueError\u001B[0m: 2 is not in list"
     ]
    }
   ],
   "source": [
    "#Search sequences\n",
    "\n",
    "numbers = [3, 7, 1, 4, 2, 8, 5, 6,3,2,15,4,2]\n",
    "\n",
    "# Search for number = 2, starting from position 3 till 7\n",
    "numbers.index(2,0,1)\n"
   ]
  },
  {
   "cell_type": "code",
   "execution_count": null,
   "id": "61758097",
   "metadata": {},
   "outputs": [
    {
     "name": "stdout",
     "output_type": "stream",
     "text": [
      "2\n"
     ]
    }
   ],
   "source": [
    "# Number of occurrences of an item\n",
    "\n",
    "nums = [1, 2, 5, 4, 3, 5, 2, 1, 3, 3, 1, 4, 3, 3, 3, 2, 3, 3, 2, 2]\n",
    "\n",
    "print(nums.count(5))"
   ]
  },
  {
   "cell_type": "code",
   "execution_count": null,
   "id": "e6c12cfe",
   "metadata": {},
   "outputs": [
    {
     "name": "stdout",
     "output_type": "stream",
     "text": [
      "[0, 1, 2, 3, 4, 5, 6, 7, 8, 9]\n",
      "[10, 0, 1, 2, 3, 4, 5, 6, 7, 8, 9]\n"
     ]
    }
   ],
   "source": [
    "# Inserting an Element at a Specific index\n",
    "\n",
    "sample = list(range(10))\n",
    "print(sample)\n",
    "\n",
    "# Insert 10 at 0\n",
    "sample.insert(0,10)\n",
    "print(sample)"
   ]
  },
  {
   "cell_type": "code",
   "execution_count": null,
   "id": "db038645",
   "metadata": {},
   "outputs": [
    {
     "name": "stdout",
     "output_type": "stream",
     "text": [
      "[9, 8, 7, 6, 5, 4, 3, 2, 1, 0]\n",
      "[8, 7, 6, 5, 4, 3, 2, 1, 0]\n"
     ]
    }
   ],
   "source": [
    "# Remove an item at an index\n",
    "\n",
    "sample = list(range(10))\n",
    "\n",
    "#Reverse a list\n",
    "sample = sample[::-1]\n",
    "print(sample)\n",
    "\n",
    "# Remove element at index 0 i.e. 9\n",
    "sample.pop(0)\n",
    "print(sample)"
   ]
  },
  {
   "cell_type": "code",
   "execution_count": null,
   "id": "89f570ed",
   "metadata": {},
   "outputs": [],
   "source": []
  }
 ],
 "metadata": {
  "kernelspec": {
   "display_name": "python3",
   "language": "python",
   "name": "python3"
  }
 },
 "nbformat": 4,
 "nbformat_minor": 5
}