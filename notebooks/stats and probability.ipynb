{
 "cells": [
  {
   "cell_type": "code",
   "execution_count": null,
   "id": "ee4fc759",
   "metadata": {},
   "outputs": [],
   "source": [
    "import scipy.stats as st\n",
    "import matplotlib.pyplot as plt\n",
    "import numpy as np\n",
    "import seaborn as sns\n",
    "import math\n",
    "import pandas as pd\n",
    "\n",
    "%matplotlib inline"
   ]
  },
  {
   "cell_type": "code",
   "execution_count": null,
   "metadata": {},
   "outputs": [],
   "source": [
    "import json"
   ]
  },
  {
   "cell_type": "code",
   "execution_count": null,
   "metadata": {},
   "outputs": [],
   "source": [
    "from ast import literal_eval"
   ]
  },
  {
   "cell_type": "code",
   "execution_count": null,
   "id": "f21994d9",
   "metadata": {},
   "outputs": [],
   "source": [
    "xs= np.linspace(-200,200)\n",
    "ks= np.arange(50)"
   ]
  },
  {
   "cell_type": "markdown",
   "id": "c9a62396",
   "metadata": {},
   "source": [
    "### Normal"
   ]
  },
  {
   "cell_type": "code",
   "execution_count": null,
   "id": "862f3648",
   "metadata": {},
   "outputs": [
    {
     "data": {
      "image/png": "[encoded data removed]",
      "text/plain": [
       "<Figure size 432x288 with 1 Axes>"
      ]
     },
     "metadata": {
      "needs_background": "light"
     },
     "output_type": "display_data"
    }
   ],
   "source": [
    "pdf_normal = st.norm.pdf(xs,0,1)\n",
    "\n",
    "plt.plot(xs, pdf_normal, label='Normal(0,1)')\n",
    "\n",
    "plt.legend;"
   ]
  },
  {
   "cell_type": "markdown",
   "id": "2107d476",
   "metadata": {},
   "source": [
    "### T-test and p-value"
   ]
  },
  {
   "cell_type": "code",
   "execution_count": null,
   "id": "77b24873",
   "metadata": {},
   "outputs": [
    {
     "name": "stdout",
     "output_type": "stream",
     "text": [
      "2.6803214959452126e-51\n",
      "-15.10978429133089\n"
     ]
    }
   ],
   "source": [
    "A = np.random.normal(25.0, 5.0, 10000) \n",
    "B = np.random.normal(26.0, 5.0, 10000) \n",
    " \n",
    "res=st.ttest_ind(A, B) \n",
    "print(res.pvalue)\n",
    "print(res.statistic)"
   ]
  },
  {
   "cell_type": "markdown",
   "id": "43f6d611",
   "metadata": {},
   "source": [
    "### Mean,mode,median,variance and other stats"
   ]
  },
  {
   "cell_type": "code",
   "execution_count": null,
   "id": "b211ad22",
   "metadata": {},
   "outputs": [
    {
     "name": "stdout",
     "output_type": "stream",
     "text": [
      " Min = 18, Max = 89, Mean = 52.37\n",
      " Variance = 427.32374749498996, Deviation = 20.671810455182438\n",
      " Mode = 43\n"
     ]
    }
   ],
   "source": [
    "ages = np.random.randint(18, high=90, size=500)\n",
    "\n",
    "res = st.describe(ages,nan_policy='omit')\n",
    "\n",
    "print(f' Min = {res.minmax[0]}, Max = {res.minmax[1]}, Mean = {res.mean}')\n",
    "print(f' Variance = {res.variance}, Deviation = {math.sqrt(res.variance)}')\n",
    "print(f' Mode = {st.mode(ages).mode[0]}')"
   ]
  },
  {
   "cell_type": "code",
   "execution_count": null,
   "id": "060f414d",
   "metadata": {},
   "outputs": [
    {
     "name": "stdout",
     "output_type": "stream",
     "text": [
      "{'count': 500.0, 'mean': 52.37, 'std': 20.671810455182428, 'min': 18.0, '25%': 35.0, '50%': 52.0, '75%': 70.0, 'max': 89.0}\n"
     ]
    }
   ],
   "source": [
    "# Another way\n",
    "\n",
    "res = pd.Series(ages).describe().to_dict()\n",
    "print(res)"
   ]
  },
  {
   "cell_type": "code",
   "execution_count": null,
   "id": "6e4a51cc",
   "metadata": {},
   "outputs": [
    {
     "name": "stdout",
     "output_type": "stream",
     "text": [
      "Mean = 52.37, Median = 52.0,Mode = 43,Variance = 426.46909999999997, Deviation = 20.651128298473186 \n"
     ]
    }
   ],
   "source": [
    "# Best way\n",
    "\n",
    "print(f'Mean = {np.mean(ages)}, Median = {np.median(ages)},Mode = {st.mode(ages).mode[0]},Variance = {ages.var()}, Deviation = {ages.std()} ')"
   ]
  }
 ],
 "metadata": {
  "kernelspec": {
   "display_name": "python3",
   "language": "python",
   "name": "python3"
  }
 },
 "nbformat": 4,
 "nbformat_minor": 5
}